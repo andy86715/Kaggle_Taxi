{
 "cells": [
  {
   "cell_type": "code",
   "execution_count": 1,
   "metadata": {
    "code_folding": [],
    "collapsed": true
   },
   "outputs": [],
   "source": [
    "# awk 'NR<=100000{print $0}' train.csv > 10萬筆測試資料.xlsx\n",
    "import numpy as np\n",
    "import pandas as pd\n",
    "from tqdm import tqdm_notebook"
   ]
  },
  {
   "cell_type": "markdown",
   "metadata": {},
   "source": [
    "## Load Data"
   ]
  },
  {
   "cell_type": "code",
   "execution_count": 2,
   "metadata": {
    "code_folding": [],
    "collapsed": false
   },
   "outputs": [],
   "source": [
    "# 55423856筆資料\n",
    "df = pd.read_csv(\"/Volumes/transcend/大檔案/Taxi/NYT/10萬筆測試訓練資料.csv\")"
   ]
  },
  {
   "cell_type": "code",
   "execution_count": 3,
   "metadata": {
    "collapsed": false
   },
   "outputs": [],
   "source": [
    "df['key'] = pd.to_datetime(df['key'], format='%Y-%m-%d %H:%M:%S')\n",
    "df['pickup_datetime'] = pd.to_datetime(df['pickup_datetime'].str.replace('UTC',''), format='%Y-%m-%d %H:%M:%S')"
   ]
  },
  {
   "cell_type": "code",
   "execution_count": 4,
   "metadata": {
    "collapsed": false
   },
   "outputs": [
    {
     "data": {
      "text/html": [
       "<div>\n",
       "<style scoped>\n",
       "    .dataframe tbody tr th:only-of-type {\n",
       "        vertical-align: middle;\n",
       "    }\n",
       "\n",
       "    .dataframe tbody tr th {\n",
       "        vertical-align: top;\n",
       "    }\n",
       "\n",
       "    .dataframe thead th {\n",
       "        text-align: right;\n",
       "    }\n",
       "</style>\n",
       "<table border=\"1\" class=\"dataframe\">\n",
       "  <thead>\n",
       "    <tr style=\"text-align: right;\">\n",
       "      <th></th>\n",
       "      <th>key</th>\n",
       "      <th>fare_amount</th>\n",
       "      <th>pickup_datetime</th>\n",
       "      <th>pickup_longitude</th>\n",
       "      <th>pickup_latitude</th>\n",
       "      <th>dropoff_longitude</th>\n",
       "      <th>dropoff_latitude</th>\n",
       "      <th>passenger_count</th>\n",
       "    </tr>\n",
       "  </thead>\n",
       "  <tbody>\n",
       "    <tr>\n",
       "      <th>0</th>\n",
       "      <td>2009-06-15 17:26:21.0000001</td>\n",
       "      <td>4.5</td>\n",
       "      <td>2009-06-15 17:26:21 UTC</td>\n",
       "      <td>-73.844311</td>\n",
       "      <td>40.721319</td>\n",
       "      <td>-73.841610</td>\n",
       "      <td>40.712278</td>\n",
       "      <td>1</td>\n",
       "    </tr>\n",
       "    <tr>\n",
       "      <th>1</th>\n",
       "      <td>2010-01-05 16:52:16.0000002</td>\n",
       "      <td>16.9</td>\n",
       "      <td>2010-01-05 16:52:16 UTC</td>\n",
       "      <td>-74.016048</td>\n",
       "      <td>40.711303</td>\n",
       "      <td>-73.979268</td>\n",
       "      <td>40.782004</td>\n",
       "      <td>1</td>\n",
       "    </tr>\n",
       "  </tbody>\n",
       "</table>\n",
       "</div>"
      ],
      "text/plain": [
       "                           key  fare_amount          pickup_datetime  \\\n",
       "0  2009-06-15 17:26:21.0000001          4.5  2009-06-15 17:26:21 UTC   \n",
       "1  2010-01-05 16:52:16.0000002         16.9  2010-01-05 16:52:16 UTC   \n",
       "\n",
       "   pickup_longitude  pickup_latitude  dropoff_longitude  dropoff_latitude  \\\n",
       "0        -73.844311        40.721319         -73.841610         40.712278   \n",
       "1        -74.016048        40.711303         -73.979268         40.782004   \n",
       "\n",
       "   passenger_count  \n",
       "0                1  \n",
       "1                1  "
      ]
     },
     "execution_count": 4,
     "metadata": {},
     "output_type": "execute_result"
    }
   ],
   "source": [
    "df.head(2)"
   ]
  },
  {
   "cell_type": "code",
   "execution_count": 5,
   "metadata": {
    "collapsed": false
   },
   "outputs": [
    {
     "name": "stdout",
     "output_type": "stream",
     "text": [
      "<class 'pandas.core.frame.DataFrame'>\n",
      "RangeIndex: 99999 entries, 0 to 99998\n",
      "Data columns (total 8 columns):\n",
      "key                  99999 non-null datetime64[ns]\n",
      "fare_amount          99999 non-null float64\n",
      "pickup_datetime      99999 non-null datetime64[ns]\n",
      "pickup_longitude     99999 non-null float64\n",
      "pickup_latitude      99999 non-null float64\n",
      "dropoff_longitude    99999 non-null float64\n",
      "dropoff_latitude     99999 non-null float64\n",
      "passenger_count      99999 non-null int64\n",
      "dtypes: datetime64[ns](2), float64(5), int64(1)\n",
      "memory usage: 6.1 MB\n"
     ]
    }
   ],
   "source": [
    "df.info()"
   ]
  },
  {
   "cell_type": "markdown",
   "metadata": {},
   "source": [
    "## EDA"
   ]
  },
  {
   "cell_type": "code",
   "execution_count": 4,
   "metadata": {
    "collapsed": false
   },
   "outputs": [],
   "source": [
    "import matplotlib.pyplot as plt\n",
    "import seaborn as sns; sns.set()\n",
    "from matplotlib.font_manager import FontProperties\n",
    "font = FontProperties(fname=r\"/System/Library/Fonts/STHeiti Light.ttc\")"
   ]
  },
  {
   "cell_type": "code",
   "execution_count": 44,
   "metadata": {
    "collapsed": false
   },
   "outputs": [
    {
     "data": {
      "text/html": [
       "<div>\n",
       "<style>\n",
       "    .dataframe thead tr:only-child th {\n",
       "        text-align: right;\n",
       "    }\n",
       "\n",
       "    .dataframe thead th {\n",
       "        text-align: left;\n",
       "    }\n",
       "\n",
       "    .dataframe tbody tr th {\n",
       "        vertical-align: top;\n",
       "    }\n",
       "</style>\n",
       "<table border=\"1\" class=\"dataframe\">\n",
       "  <thead>\n",
       "    <tr style=\"text-align: right;\">\n",
       "      <th></th>\n",
       "      <th>fare_amount</th>\n",
       "      <th>pickup_longitude</th>\n",
       "      <th>pickup_latitude</th>\n",
       "      <th>dropoff_longitude</th>\n",
       "      <th>dropoff_latitude</th>\n",
       "      <th>passenger_count</th>\n",
       "    </tr>\n",
       "  </thead>\n",
       "  <tbody>\n",
       "    <tr>\n",
       "      <th>count</th>\n",
       "      <td>99999.000000</td>\n",
       "      <td>99999.000000</td>\n",
       "      <td>99999.000000</td>\n",
       "      <td>99999.000000</td>\n",
       "      <td>99999.000000</td>\n",
       "      <td>99999.000000</td>\n",
       "    </tr>\n",
       "    <tr>\n",
       "      <th>mean</th>\n",
       "      <td>11.354708</td>\n",
       "      <td>-72.494667</td>\n",
       "      <td>39.914473</td>\n",
       "      <td>-72.490952</td>\n",
       "      <td>39.919044</td>\n",
       "      <td>1.673827</td>\n",
       "    </tr>\n",
       "    <tr>\n",
       "      <th>std</th>\n",
       "      <td>9.716809</td>\n",
       "      <td>10.693986</td>\n",
       "      <td>6.225716</td>\n",
       "      <td>10.471438</td>\n",
       "      <td>6.213457</td>\n",
       "      <td>1.300175</td>\n",
       "    </tr>\n",
       "    <tr>\n",
       "      <th>min</th>\n",
       "      <td>-44.900000</td>\n",
       "      <td>-736.550000</td>\n",
       "      <td>-74.007670</td>\n",
       "      <td>-84.654241</td>\n",
       "      <td>-74.006377</td>\n",
       "      <td>0.000000</td>\n",
       "    </tr>\n",
       "    <tr>\n",
       "      <th>25%</th>\n",
       "      <td>6.000000</td>\n",
       "      <td>-73.992041</td>\n",
       "      <td>40.734996</td>\n",
       "      <td>-73.991215</td>\n",
       "      <td>40.734182</td>\n",
       "      <td>1.000000</td>\n",
       "    </tr>\n",
       "    <tr>\n",
       "      <th>50%</th>\n",
       "      <td>8.500000</td>\n",
       "      <td>-73.981789</td>\n",
       "      <td>40.752765</td>\n",
       "      <td>-73.980000</td>\n",
       "      <td>40.753243</td>\n",
       "      <td>1.000000</td>\n",
       "    </tr>\n",
       "    <tr>\n",
       "      <th>75%</th>\n",
       "      <td>12.500000</td>\n",
       "      <td>-73.966982</td>\n",
       "      <td>40.767258</td>\n",
       "      <td>-73.963433</td>\n",
       "      <td>40.768164</td>\n",
       "      <td>2.000000</td>\n",
       "    </tr>\n",
       "    <tr>\n",
       "      <th>max</th>\n",
       "      <td>200.000000</td>\n",
       "      <td>40.787575</td>\n",
       "      <td>401.083332</td>\n",
       "      <td>40.851027</td>\n",
       "      <td>404.616667</td>\n",
       "      <td>6.000000</td>\n",
       "    </tr>\n",
       "  </tbody>\n",
       "</table>\n",
       "</div>"
      ],
      "text/plain": [
       "        fare_amount  pickup_longitude  pickup_latitude  dropoff_longitude  \\\n",
       "count  99999.000000      99999.000000     99999.000000       99999.000000   \n",
       "mean      11.354708        -72.494667        39.914473         -72.490952   \n",
       "std        9.716809         10.693986         6.225716          10.471438   \n",
       "min      -44.900000       -736.550000       -74.007670         -84.654241   \n",
       "25%        6.000000        -73.992041        40.734996         -73.991215   \n",
       "50%        8.500000        -73.981789        40.752765         -73.980000   \n",
       "75%       12.500000        -73.966982        40.767258         -73.963433   \n",
       "max      200.000000         40.787575       401.083332          40.851027   \n",
       "\n",
       "       dropoff_latitude  passenger_count  \n",
       "count      99999.000000     99999.000000  \n",
       "mean          39.919044         1.673827  \n",
       "std            6.213457         1.300175  \n",
       "min          -74.006377         0.000000  \n",
       "25%           40.734182         1.000000  \n",
       "50%           40.753243         1.000000  \n",
       "75%           40.768164         2.000000  \n",
       "max          404.616667         6.000000  "
      ]
     },
     "execution_count": 44,
     "metadata": {},
     "output_type": "execute_result"
    }
   ],
   "source": [
    "df.describe()"
   ]
  },
  {
   "cell_type": "markdown",
   "metadata": {},
   "source": [
    "### 乘客數量分佈"
   ]
  },
  {
   "cell_type": "code",
   "execution_count": 6,
   "metadata": {
    "collapsed": false
   },
   "outputs": [
    {
     "data": {
      "text/plain": [
       "1    69618\n",
       "2    14561\n",
       "5     7034\n",
       "3     4289\n",
       "4     2091\n",
       "6     2040\n",
       "0      366\n",
       "Name: passenger_count, dtype: int64"
      ]
     },
     "execution_count": 6,
     "metadata": {},
     "output_type": "execute_result"
    }
   ],
   "source": [
    "df['passenger_count'].value_counts()"
   ]
  },
  {
   "cell_type": "code",
   "execution_count": 46,
   "metadata": {
    "collapsed": false
   },
   "outputs": [
    {
     "data": {
      "image/png": "[encoded data removed]",
      "text/plain": [
       "<matplotlib.figure.Figure at 0x1216b2cf8>"
      ]
     },
     "metadata": {},
     "output_type": "display_data"
    }
   ],
   "source": [
    "sns.countplot(data=df,x='passenger_count')\n",
    "plt.show()"
   ]
  },
  {
   "cell_type": "code",
   "execution_count": 7,
   "metadata": {
    "collapsed": false,
    "scrolled": false
   },
   "outputs": [
    {
     "data": {
      "text/html": [
       "<div>\n",
       "<style>\n",
       "    .dataframe thead tr:only-child th {\n",
       "        text-align: right;\n",
       "    }\n",
       "\n",
       "    .dataframe thead th {\n",
       "        text-align: left;\n",
       "    }\n",
       "\n",
       "    .dataframe tbody tr th {\n",
       "        vertical-align: top;\n",
       "    }\n",
       "</style>\n",
       "<table border=\"1\" class=\"dataframe\">\n",
       "  <thead>\n",
       "    <tr style=\"text-align: right;\">\n",
       "      <th></th>\n",
       "      <th>key</th>\n",
       "      <th>fare_amount</th>\n",
       "      <th>pickup_datetime</th>\n",
       "      <th>pickup_longitude</th>\n",
       "      <th>pickup_latitude</th>\n",
       "      <th>dropoff_longitude</th>\n",
       "      <th>dropoff_latitude</th>\n",
       "      <th>passenger_count</th>\n",
       "    </tr>\n",
       "  </thead>\n",
       "  <tbody>\n",
       "    <tr>\n",
       "      <th>314</th>\n",
       "      <td>2015-06-02 23:16:15.000000120</td>\n",
       "      <td>34.0</td>\n",
       "      <td>2015-06-02 23:16:15</td>\n",
       "      <td>-73.974899</td>\n",
       "      <td>40.751095</td>\n",
       "      <td>-73.908546</td>\n",
       "      <td>40.881878</td>\n",
       "      <td>0</td>\n",
       "    </tr>\n",
       "    <tr>\n",
       "      <th>566</th>\n",
       "      <td>2012-01-28 21:33:18.000000200</td>\n",
       "      <td>4.9</td>\n",
       "      <td>2012-01-28 21:33:18</td>\n",
       "      <td>-73.955322</td>\n",
       "      <td>40.782840</td>\n",
       "      <td>-73.955797</td>\n",
       "      <td>40.773673</td>\n",
       "      <td>0</td>\n",
       "    </tr>\n",
       "    <tr>\n",
       "      <th>678</th>\n",
       "      <td>2012-02-27 07:24:20.000000300</td>\n",
       "      <td>6.5</td>\n",
       "      <td>2012-02-27 07:24:20</td>\n",
       "      <td>-73.983397</td>\n",
       "      <td>40.738183</td>\n",
       "      <td>-73.971395</td>\n",
       "      <td>40.758023</td>\n",
       "      <td>0</td>\n",
       "    </tr>\n",
       "  </tbody>\n",
       "</table>\n",
       "</div>"
      ],
      "text/plain": [
       "                              key  fare_amount     pickup_datetime  \\\n",
       "314 2015-06-02 23:16:15.000000120         34.0 2015-06-02 23:16:15   \n",
       "566 2012-01-28 21:33:18.000000200          4.9 2012-01-28 21:33:18   \n",
       "678 2012-02-27 07:24:20.000000300          6.5 2012-02-27 07:24:20   \n",
       "\n",
       "     pickup_longitude  pickup_latitude  dropoff_longitude  dropoff_latitude  \\\n",
       "314        -73.974899        40.751095         -73.908546         40.881878   \n",
       "566        -73.955322        40.782840         -73.955797         40.773673   \n",
       "678        -73.983397        40.738183         -73.971395         40.758023   \n",
       "\n",
       "     passenger_count  \n",
       "314                0  \n",
       "566                0  \n",
       "678                0  "
      ]
     },
     "execution_count": 7,
     "metadata": {},
     "output_type": "execute_result"
    }
   ],
   "source": [
    "# 載到鬼?\n",
    "df[df['passenger_count']==0].head(3)"
   ]
  },
  {
   "cell_type": "markdown",
   "metadata": {},
   "source": [
    "### 價錢分佈"
   ]
  },
  {
   "cell_type": "code",
   "execution_count": 11,
   "metadata": {
    "collapsed": false
   },
   "outputs": [
    {
     "data": {
      "image/png": "[encoded data removed]",
      "text/plain": [
       "<Figure size 576x360 with 1 Axes>"
      ]
     },
     "metadata": {},
     "output_type": "display_data"
    }
   ],
   "source": [
    "x = df['fare_amount']\n",
    "sns.distplot(x)\n",
    "plt.title('價錢分佈圖',fontproperties=font,size=12)\n",
    "plt.gcf().set_size_inches(8,5)\n",
    "plt.show()"
   ]
  },
  {
   "cell_type": "code",
   "execution_count": 115,
   "metadata": {
    "collapsed": false
   },
   "outputs": [
    {
     "data": {
      "text/html": [
       "<div>\n",
       "<style>\n",
       "    .dataframe thead tr:only-child th {\n",
       "        text-align: right;\n",
       "    }\n",
       "\n",
       "    .dataframe thead th {\n",
       "        text-align: left;\n",
       "    }\n",
       "\n",
       "    .dataframe tbody tr th {\n",
       "        vertical-align: top;\n",
       "    }\n",
       "</style>\n",
       "<table border=\"1\" class=\"dataframe\">\n",
       "  <thead>\n",
       "    <tr style=\"text-align: right;\">\n",
       "      <th></th>\n",
       "      <th>key</th>\n",
       "      <th>fare_amount</th>\n",
       "      <th>pickup_datetime</th>\n",
       "      <th>pickup_longitude</th>\n",
       "      <th>pickup_latitude</th>\n",
       "      <th>dropoff_longitude</th>\n",
       "      <th>dropoff_latitude</th>\n",
       "      <th>passenger_count</th>\n",
       "    </tr>\n",
       "  </thead>\n",
       "  <tbody>\n",
       "    <tr>\n",
       "      <th>2039</th>\n",
       "      <td>2010-03-09 23:37:10.000000500</td>\n",
       "      <td>-2.9</td>\n",
       "      <td>2010-03-09 23:37:10</td>\n",
       "      <td>-73.789450</td>\n",
       "      <td>40.643498</td>\n",
       "      <td>-73.788665</td>\n",
       "      <td>40.641952</td>\n",
       "      <td>1</td>\n",
       "    </tr>\n",
       "    <tr>\n",
       "      <th>2486</th>\n",
       "      <td>2015-03-22 05:14:27.000000100</td>\n",
       "      <td>-2.5</td>\n",
       "      <td>2015-03-22 05:14:27</td>\n",
       "      <td>-74.000031</td>\n",
       "      <td>40.720631</td>\n",
       "      <td>-73.999809</td>\n",
       "      <td>40.720539</td>\n",
       "      <td>1</td>\n",
       "    </tr>\n",
       "    <tr>\n",
       "      <th>13032</th>\n",
       "      <td>2013-08-30 08:57:10.000000200</td>\n",
       "      <td>-3.0</td>\n",
       "      <td>2013-08-30 08:57:10</td>\n",
       "      <td>-73.995062</td>\n",
       "      <td>40.740755</td>\n",
       "      <td>-73.995885</td>\n",
       "      <td>40.741357</td>\n",
       "      <td>4</td>\n",
       "    </tr>\n",
       "  </tbody>\n",
       "</table>\n",
       "</div>"
      ],
      "text/plain": [
       "                                key  fare_amount     pickup_datetime  \\\n",
       "2039  2010-03-09 23:37:10.000000500         -2.9 2010-03-09 23:37:10   \n",
       "2486  2015-03-22 05:14:27.000000100         -2.5 2015-03-22 05:14:27   \n",
       "13032 2013-08-30 08:57:10.000000200         -3.0 2013-08-30 08:57:10   \n",
       "\n",
       "       pickup_longitude  pickup_latitude  dropoff_longitude  dropoff_latitude  \\\n",
       "2039         -73.789450        40.643498         -73.788665         40.641952   \n",
       "2486         -74.000031        40.720631         -73.999809         40.720539   \n",
       "13032        -73.995062        40.740755         -73.995885         40.741357   \n",
       "\n",
       "       passenger_count  \n",
       "2039                 1  \n",
       "2486                 1  \n",
       "13032                4  "
      ]
     },
     "execution_count": 115,
     "metadata": {},
     "output_type": "execute_result"
    }
   ],
   "source": [
    "# 價錢負的?\n",
    "df[df['fare_amount']<0].head(3)"
   ]
  },
  {
   "cell_type": "code",
   "execution_count": 15,
   "metadata": {
    "collapsed": true
   },
   "outputs": [],
   "source": [
    "# 去除價錢小於0\n",
    "df2 = df[df['fare_amount']>0]\n",
    "df2 = df2.reset_index(drop=True)"
   ]
  },
  {
   "cell_type": "markdown",
   "metadata": {},
   "source": [
    "### 限制經緯度範圍\n",
    "有outlier"
   ]
  },
  {
   "cell_type": "code",
   "execution_count": 16,
   "metadata": {
    "collapsed": false
   },
   "outputs": [],
   "source": [
    "# 三筆outlier，5686，92310\n",
    "df2 = df2[(df2['pickup_latitude']<90)&(df2['pickup_latitude']>-90)&(df2['dropoff_latitude']<90)&(df2['dropoff_latitude']>-90)&(df2['pickup_longitude']<180)&(df2['pickup_longitude']>-180)&(df2['dropoff_longitude']<180)&(df2['dropoff_longitude']>-180)]\n",
    "df2 = df2.reset_index(drop=True)"
   ]
  },
  {
   "cell_type": "code",
   "execution_count": 122,
   "metadata": {
    "collapsed": false
   },
   "outputs": [
    {
     "data": {
      "text/plain": [
       "99984"
      ]
     },
     "execution_count": 122,
     "metadata": {},
     "output_type": "execute_result"
    }
   ],
   "source": [
    "len(df2)"
   ]
  },
  {
   "cell_type": "markdown",
   "metadata": {},
   "source": [
    "### 新增距離欄位"
   ]
  },
  {
   "cell_type": "code",
   "execution_count": 12,
   "metadata": {
    "collapsed": true
   },
   "outputs": [],
   "source": [
    "import geopy.distance\n",
    "from math import sin, cos, sqrt, atan2, radians"
   ]
  },
  {
   "cell_type": "markdown",
   "metadata": {},
   "source": [
    "### Test"
   ]
  },
  {
   "cell_type": "code",
   "execution_count": 30,
   "metadata": {
    "collapsed": false
   },
   "outputs": [
    {
     "name": "stdout",
     "output_type": "stream",
     "text": [
      "Result: 278.54558935106695\n",
      "Should be: 278.546 km\n"
     ]
    }
   ],
   "source": [
    "# approximate radius of earth in km\n",
    "R = 6373.0\n",
    "\n",
    "lat1 = radians(52.2296756)\n",
    "lon1 = radians(21.0122287)\n",
    "lat2 = radians(52.406374)\n",
    "lon2 = radians(16.9251681)\n",
    "\n",
    "dlon = lon2 - lon1\n",
    "dlat = lat2 - lat1\n",
    "\n",
    "a = sin(dlat / 2)**2 + cos(lat1) * cos(lat2) * sin(dlon / 2)**2\n",
    "c = 2 * atan2(sqrt(a), sqrt(1 - a))\n",
    "\n",
    "distance = R * c\n",
    "\n",
    "print(\"Result:\", distance)\n",
    "print(\"Should be:\", 278.546, \"km\")"
   ]
  },
  {
   "cell_type": "code",
   "execution_count": 35,
   "metadata": {
    "collapsed": false
   },
   "outputs": [
    {
     "name": "stdout",
     "output_type": "stream",
     "text": [
      "279.35290160386563\n"
     ]
    },
    {
     "name": "stderr",
     "output_type": "stream",
     "text": [
      "/Users/andy/anaconda/lib/python3.6/site-packages/ipykernel/__main__.py:4: DeprecationWarning: Vincenty is deprecated and is going to be removed in geopy 2.0. Use `geopy.distance.geodesic` (or the default `geopy.distance.distance`) instead, which is more accurate and always converges.\n"
     ]
    }
   ],
   "source": [
    "coords_1 = (52.2296756, 21.0122287)\n",
    "coords_2 = (52.406374, 16.9251681)\n",
    "\n",
    "print(geopy.distance.vincenty(coords_1, coords_2).km)"
   ]
  },
  {
   "cell_type": "code",
   "execution_count": 17,
   "metadata": {
    "collapsed": false
   },
   "outputs": [
    {
     "name": "stderr",
     "output_type": "stream",
     "text": [
      "/Users/andy/anaconda/lib/python3.6/site-packages/ipykernel/__main__.py:3: DeprecationWarning: Vincenty is deprecated and is going to be removed in geopy 2.0. Use `geopy.distance.geodesic` (or the default `geopy.distance.distance`) instead, which is more accurate and always converges.\n",
      "  app.launch_new_instance()\n"
     ]
    },
    {
     "name": "stdout",
     "output_type": "stream",
     "text": [
      "\n"
     ]
    }
   ],
   "source": [
    "dis = []\n",
    "for i in tqdm_notebook(range(len(df2))):\n",
    "    dis.append(geopy.distance.vincenty((df2['pickup_latitude'][i],df2['pickup_longitude'][i]),(df2['dropoff_latitude'][i],df2['dropoff_longitude'][i])).km)\n",
    "df2['distance'] = pd.DataFrame(dis)"
   ]
  },
  {
   "cell_type": "code",
   "execution_count": 18,
   "metadata": {
    "collapsed": false
   },
   "outputs": [
    {
     "data": {
      "image/png": "[encoded data removed]",
      "text/plain": [
       "<Figure size 576x360 with 1 Axes>"
      ]
     },
     "metadata": {},
     "output_type": "display_data"
    }
   ],
   "source": [
    "x = df2['distance']\n",
    "sns.distplot(x)\n",
    "plt.title('距離分佈圖',fontproperties=font,size=12)\n",
    "plt.gcf().set_size_inches(8,5)\n",
    "plt.show()"
   ]
  },
  {
   "cell_type": "code",
   "execution_count": 21,
   "metadata": {
    "collapsed": false,
    "scrolled": true
   },
   "outputs": [
    {
     "data": {
      "text/html": [
       "<div>\n",
       "<style scoped>\n",
       "    .dataframe tbody tr th:only-of-type {\n",
       "        vertical-align: middle;\n",
       "    }\n",
       "\n",
       "    .dataframe tbody tr th {\n",
       "        vertical-align: top;\n",
       "    }\n",
       "\n",
       "    .dataframe thead th {\n",
       "        text-align: right;\n",
       "    }\n",
       "</style>\n",
       "<table border=\"1\" class=\"dataframe\">\n",
       "  <thead>\n",
       "    <tr style=\"text-align: right;\">\n",
       "      <th></th>\n",
       "      <th>key</th>\n",
       "      <th>fare_amount</th>\n",
       "      <th>pickup_datetime</th>\n",
       "      <th>pickup_longitude</th>\n",
       "      <th>pickup_latitude</th>\n",
       "      <th>dropoff_longitude</th>\n",
       "      <th>dropoff_latitude</th>\n",
       "      <th>passenger_count</th>\n",
       "      <th>distance</th>\n",
       "    </tr>\n",
       "  </thead>\n",
       "  <tbody>\n",
       "    <tr>\n",
       "      <th>472</th>\n",
       "      <td>2009-02-22 22:48:00.000000130</td>\n",
       "      <td>2.5</td>\n",
       "      <td>2009-02-22 22:48:00</td>\n",
       "      <td>0.000000</td>\n",
       "      <td>0.000000</td>\n",
       "      <td>-74.005433</td>\n",
       "      <td>40.726685</td>\n",
       "      <td>2</td>\n",
       "      <td>8667.655928</td>\n",
       "    </tr>\n",
       "    <tr>\n",
       "      <th>1260</th>\n",
       "      <td>2011-03-10 20:25:00.000000490</td>\n",
       "      <td>5.7</td>\n",
       "      <td>2011-03-10 20:25:00</td>\n",
       "      <td>-73.973907</td>\n",
       "      <td>40.754743</td>\n",
       "      <td>0.000000</td>\n",
       "      <td>0.000000</td>\n",
       "      <td>2</td>\n",
       "      <td>8665.602660</td>\n",
       "    </tr>\n",
       "    <tr>\n",
       "      <th>2396</th>\n",
       "      <td>2012-06-24 17:11:10.000000100</td>\n",
       "      <td>45.0</td>\n",
       "      <td>2012-06-24 17:11:10</td>\n",
       "      <td>0.000000</td>\n",
       "      <td>0.000000</td>\n",
       "      <td>-74.010230</td>\n",
       "      <td>40.714553</td>\n",
       "      <td>2</td>\n",
       "      <td>8667.810452</td>\n",
       "    </tr>\n",
       "  </tbody>\n",
       "</table>\n",
       "</div>"
      ],
      "text/plain": [
       "                               key  fare_amount     pickup_datetime  \\\n",
       "472  2009-02-22 22:48:00.000000130          2.5 2009-02-22 22:48:00   \n",
       "1260 2011-03-10 20:25:00.000000490          5.7 2011-03-10 20:25:00   \n",
       "2396 2012-06-24 17:11:10.000000100         45.0 2012-06-24 17:11:10   \n",
       "\n",
       "      pickup_longitude  pickup_latitude  dropoff_longitude  dropoff_latitude  \\\n",
       "472           0.000000         0.000000         -74.005433         40.726685   \n",
       "1260        -73.973907        40.754743           0.000000          0.000000   \n",
       "2396          0.000000         0.000000         -74.010230         40.714553   \n",
       "\n",
       "      passenger_count     distance  \n",
       "472                 2  8667.655928  \n",
       "1260                2  8665.602660  \n",
       "2396                2  8667.810452  "
      ]
     },
     "execution_count": 21,
     "metadata": {},
     "output_type": "execute_result"
    }
   ],
   "source": [
    "# 有outlier\n",
    "df2[df2['distance']>8000].head(3)"
   ]
  },
  {
   "cell_type": "code",
   "execution_count": 26,
   "metadata": {
    "collapsed": true
   },
   "outputs": [],
   "source": [
    "# 限縮只取出包含testing data的經緯度範圍，(-74.5, -72.8, 40.5, 41.8)\n",
    "df3 = df2[(df2['pickup_longitude']>=-74.5)&(df2['pickup_longitude']<=-72.8)&(df2['pickup_latitude']>=40.5)&(df2['pickup_latitude']<=41.8)&(df2['dropoff_longitude']>=-74.5)&(df2['dropoff_longitude']<=-72.8)&(df2['dropoff_latitude']>=40.5)&(df2['dropoff_latitude']<=41.8)]\n",
    "df3 = df3.reset_index(drop=True)"
   ]
  },
  {
   "cell_type": "code",
   "execution_count": 27,
   "metadata": {
    "collapsed": false
   },
   "outputs": [
    {
     "data": {
      "image/png": "[encoded data removed]",
      "text/plain": [
       "<Figure size 576x360 with 1 Axes>"
      ]
     },
     "metadata": {},
     "output_type": "display_data"
    }
   ],
   "source": [
    "x = df3['distance']\n",
    "sns.distplot(x)\n",
    "plt.title('距離分佈圖 New',fontproperties=font,size=12)\n",
    "plt.gcf().set_size_inches(8,5)\n",
    "plt.show()"
   ]
  },
  {
   "cell_type": "code",
   "execution_count": 29,
   "metadata": {
    "collapsed": false
   },
   "outputs": [
    {
     "data": {
      "image/png": "[encoded data removed]",
      "text/plain": [
       "<Figure size 576x360 with 1 Axes>"
      ]
     },
     "metadata": {},
     "output_type": "display_data"
    }
   ],
   "source": [
    "sns.scatterplot(data=df3, x='distance', y='fare_amount')\n",
    "plt.gcf().set_size_inches(8,5)\n",
    "plt.title(\"距離 vs 價錢\",fontproperties=font,size=12)\n",
    "plt.show()"
   ]
  },
  {
   "cell_type": "markdown",
   "metadata": {},
   "source": [
    "### 取出時間"
   ]
  },
  {
   "cell_type": "code",
   "execution_count": 31,
   "metadata": {
    "collapsed": false
   },
   "outputs": [],
   "source": [
    "df3['year'] = df3['pickup_datetime'].dt.year\n",
    "df3['month'] = df3['pickup_datetime'].dt.month\n",
    "df3['weekday'] = df3['pickup_datetime'].dt.weekday\n",
    "df3['weekday'] = df3['weekday'].replace([0, 1, 2, 3, 4, 5, 6], ['Monday','Tuesday','Wednesday','Thursday','Friday','Saturday','Sunday'])\n",
    "df3['hour'] = df3['pickup_datetime'].dt.hour"
   ]
  },
  {
   "cell_type": "code",
   "execution_count": 34,
   "metadata": {
    "collapsed": false
   },
   "outputs": [
    {
     "data": {
      "text/html": [
       "<div>\n",
       "<style scoped>\n",
       "    .dataframe tbody tr th:only-of-type {\n",
       "        vertical-align: middle;\n",
       "    }\n",
       "\n",
       "    .dataframe tbody tr th {\n",
       "        vertical-align: top;\n",
       "    }\n",
       "\n",
       "    .dataframe thead th {\n",
       "        text-align: right;\n",
       "    }\n",
       "</style>\n",
       "<table border=\"1\" class=\"dataframe\">\n",
       "  <thead>\n",
       "    <tr style=\"text-align: right;\">\n",
       "      <th></th>\n",
       "      <th>key</th>\n",
       "      <th>fare_amount</th>\n",
       "      <th>pickup_datetime</th>\n",
       "      <th>pickup_longitude</th>\n",
       "      <th>pickup_latitude</th>\n",
       "      <th>dropoff_longitude</th>\n",
       "      <th>dropoff_latitude</th>\n",
       "      <th>passenger_count</th>\n",
       "      <th>distance</th>\n",
       "      <th>year</th>\n",
       "      <th>month</th>\n",
       "      <th>weekday</th>\n",
       "      <th>hour</th>\n",
       "    </tr>\n",
       "  </thead>\n",
       "  <tbody>\n",
       "    <tr>\n",
       "      <th>0</th>\n",
       "      <td>2009-06-15 17:26:21.000000100</td>\n",
       "      <td>4.5</td>\n",
       "      <td>2009-06-15 17:26:21</td>\n",
       "      <td>-73.844311</td>\n",
       "      <td>40.721319</td>\n",
       "      <td>-73.841610</td>\n",
       "      <td>40.712278</td>\n",
       "      <td>1</td>\n",
       "      <td>1.029601</td>\n",
       "      <td>2009</td>\n",
       "      <td>6</td>\n",
       "      <td>Monday</td>\n",
       "      <td>17</td>\n",
       "    </tr>\n",
       "    <tr>\n",
       "      <th>1</th>\n",
       "      <td>2010-01-05 16:52:16.000000200</td>\n",
       "      <td>16.9</td>\n",
       "      <td>2010-01-05 16:52:16</td>\n",
       "      <td>-74.016048</td>\n",
       "      <td>40.711303</td>\n",
       "      <td>-73.979268</td>\n",
       "      <td>40.782004</td>\n",
       "      <td>1</td>\n",
       "      <td>8.443441</td>\n",
       "      <td>2010</td>\n",
       "      <td>1</td>\n",
       "      <td>Tuesday</td>\n",
       "      <td>16</td>\n",
       "    </tr>\n",
       "    <tr>\n",
       "      <th>2</th>\n",
       "      <td>2011-08-18 00:35:00.000000490</td>\n",
       "      <td>5.7</td>\n",
       "      <td>2011-08-18 00:35:00</td>\n",
       "      <td>-73.982738</td>\n",
       "      <td>40.761270</td>\n",
       "      <td>-73.991242</td>\n",
       "      <td>40.750562</td>\n",
       "      <td>2</td>\n",
       "      <td>1.389132</td>\n",
       "      <td>2011</td>\n",
       "      <td>8</td>\n",
       "      <td>Thursday</td>\n",
       "      <td>0</td>\n",
       "    </tr>\n",
       "  </tbody>\n",
       "</table>\n",
       "</div>"
      ],
      "text/plain": [
       "                            key  fare_amount     pickup_datetime  \\\n",
       "0 2009-06-15 17:26:21.000000100          4.5 2009-06-15 17:26:21   \n",
       "1 2010-01-05 16:52:16.000000200         16.9 2010-01-05 16:52:16   \n",
       "2 2011-08-18 00:35:00.000000490          5.7 2011-08-18 00:35:00   \n",
       "\n",
       "   pickup_longitude  pickup_latitude  dropoff_longitude  dropoff_latitude  \\\n",
       "0        -73.844311        40.721319         -73.841610         40.712278   \n",
       "1        -74.016048        40.711303         -73.979268         40.782004   \n",
       "2        -73.982738        40.761270         -73.991242         40.750562   \n",
       "\n",
       "   passenger_count  distance  year  month   weekday  hour  \n",
       "0                1  1.029601  2009      6    Monday    17  \n",
       "1                1  8.443441  2010      1   Tuesday    16  \n",
       "2                2  1.389132  2011      8  Thursday     0  "
      ]
     },
     "execution_count": 34,
     "metadata": {},
     "output_type": "execute_result"
    }
   ],
   "source": [
    "df3.head(3)"
   ]
  },
  {
   "cell_type": "code",
   "execution_count": 23,
   "metadata": {
    "collapsed": false
   },
   "outputs": [
    {
     "data": {
      "image/png": "[encoded data removed]",
      "text/plain": [
       "<Figure size 576x360 with 1 Axes>"
      ]
     },
     "metadata": {},
     "output_type": "display_data"
    }
   ],
   "source": [
    "sns.countplot(data=df3, x='hour')\n",
    "plt.xticks(fontproperties=font,size=10)\n",
    "plt.title(\"搭車時間統計\",fontproperties=font,size=12)\n",
    "plt.gcf().set_size_inches(8,5)\n",
    "plt.show()"
   ]
  },
  {
   "cell_type": "code",
   "execution_count": 28,
   "metadata": {
    "collapsed": false
   },
   "outputs": [
    {
     "data": {
      "image/png": "[encoded data removed]",
      "text/plain": [
       "<Figure size 576x360 with 1 Axes>"
      ]
     },
     "metadata": {},
     "output_type": "display_data"
    }
   ],
   "source": [
    "# 車資隨時間上漲\n",
    "df_yf = df3.groupby(['year'])['fare_amount'].mean()\n",
    "sns.lineplot(x=df_yf.index, y=df_yf.values)\n",
    "plt.title(\"年 vs 價錢\", fontproperties=font,size=12)\n",
    "plt.gcf().set_size_inches(8,5)\n",
    "plt.show()"
   ]
  },
  {
   "cell_type": "code",
   "execution_count": null,
   "metadata": {
    "collapsed": false
   },
   "outputs": [],
   "source": []
  }
 ],
 "metadata": {
  "kernelspec": {
   "display_name": "Python 3",
   "language": "python",
   "name": "python3"
  },
  "language_info": {
   "codemirror_mode": {
    "name": "ipython",
    "version": 3
   },
   "file_extension": ".py",
   "mimetype": "text/x-python",
   "name": "python",
   "nbconvert_exporter": "python",
   "pygments_lexer": "ipython3",
   "version": "3.6.3"
  }
 },
 "nbformat": 4,
 "nbformat_minor": 2
}
