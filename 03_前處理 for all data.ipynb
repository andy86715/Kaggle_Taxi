{
 "cells": [
  {
   "cell_type": "code",
   "execution_count": 1,
   "metadata": {
    "collapsed": true
   },
   "outputs": [],
   "source": [
    "import feather\n",
    "import numpy as np\n",
    "import pandas as pd\n",
    "from tqdm import tqdm_notebook"
   ]
  },
  {
   "cell_type": "code",
   "execution_count": null,
   "metadata": {
    "collapsed": false
   },
   "outputs": [],
   "source": [
    "%%time\n",
    "df = feather.read_dataframe('/Volumes/transcend/大檔案/Taxi/NYT/nyc_taxi_data_raw.feather')"
   ]
  },
  {
   "cell_type": "code",
   "execution_count": 3,
   "metadata": {
    "collapsed": false
   },
   "outputs": [
    {
     "name": "stdout",
     "output_type": "stream",
     "text": [
      "<class 'pandas.core.frame.DataFrame'>\n",
      "RangeIndex: 55423856 entries, 0 to 55423855\n",
      "Data columns (total 7 columns):\n",
      "fare_amount          float32\n",
      "pickup_datetime      datetime64[ns, UTC]\n",
      "pickup_longitude     float32\n",
      "pickup_latitude      float32\n",
      "dropoff_longitude    float32\n",
      "dropoff_latitude     float32\n",
      "passenger_count      uint8\n",
      "dtypes: datetime64[ns, UTC](1), float32(5), uint8(1)\n",
      "memory usage: 1.5 GB\n"
     ]
    }
   ],
   "source": [
    "df.info()"
   ]
  },
  {
   "cell_type": "markdown",
   "metadata": {
    "collapsed": true
   },
   "source": [
    "## 資料前處理"
   ]
  },
  {
   "cell_type": "markdown",
   "metadata": {},
   "source": [
    "### 刪除資料"
   ]
  },
  {
   "cell_type": "code",
   "execution_count": 4,
   "metadata": {
    "collapsed": false
   },
   "outputs": [
    {
     "data": {
      "text/plain": [
       "fare_amount            0\n",
       "pickup_datetime        0\n",
       "pickup_longitude       0\n",
       "pickup_latitude        0\n",
       "dropoff_longitude    376\n",
       "dropoff_latitude     376\n",
       "passenger_count        0\n",
       "dtype: int64"
      ]
     },
     "execution_count": 4,
     "metadata": {},
     "output_type": "execute_result"
    }
   ],
   "source": [
    "# 遺失值\n",
    "df.isnull().sum()"
   ]
  },
  {
   "cell_type": "code",
   "execution_count": 3,
   "metadata": {
    "collapsed": true
   },
   "outputs": [],
   "source": [
    "# 去除遺失值\n",
    "df = df.dropna()"
   ]
  },
  {
   "cell_type": "code",
   "execution_count": 9,
   "metadata": {
    "collapsed": true
   },
   "outputs": [
    {
     "data": {
      "text/plain": [
       "1      38337524\n",
       "2       8175243\n",
       "5       3929346\n",
       "3       2432712\n",
       "4       1178852\n",
       "6       1174647\n",
       "0        195040\n",
       "208          64\n",
       "9            23\n",
       "7            15\n",
       "8             9\n",
       "129           2\n",
       "51            1\n",
       "49            1\n",
       "34            1\n",
       "Name: passenger_count, dtype: int64"
      ]
     },
     "execution_count": 9,
     "metadata": {},
     "output_type": "execute_result"
    }
   ],
   "source": [
    "df['passenger_count'].value_counts()"
   ]
  },
  {
   "cell_type": "code",
   "execution_count": 4,
   "metadata": {
    "collapsed": false
   },
   "outputs": [],
   "source": [
    "# 限制乘客範圍為1~6\n",
    "df = df[(df['passenger_count']==1)|(df['passenger_count']==2)|(df['passenger_count']==3)|(df['passenger_count']==4)|(df['passenger_count']==5)|(df['passenger_count']==6)]"
   ]
  },
  {
   "cell_type": "code",
   "execution_count": 5,
   "metadata": {
    "code_folding": [],
    "collapsed": false
   },
   "outputs": [],
   "source": [
    "# 去除價錢小於0\n",
    "df = df[df['fare_amount']>0]"
   ]
  },
  {
   "cell_type": "code",
   "execution_count": 6,
   "metadata": {
    "collapsed": true
   },
   "outputs": [],
   "source": [
    "# 限制經緯度範圍\n",
    "df = df[(df['pickup_longitude']>=-74.5)&(df['pickup_longitude']<=-72.8)&(df['pickup_latitude']>=40.5)&(df['pickup_latitude']<=41.8)&(df['dropoff_longitude']>=-74.5)&(df['dropoff_longitude']<=-72.8)&(df['dropoff_latitude']>=40.5)&(df['dropoff_latitude']<=41.8)]"
   ]
  },
  {
   "cell_type": "code",
   "execution_count": 7,
   "metadata": {
    "collapsed": true
   },
   "outputs": [
    {
     "data": {
      "text/html": [
       "<div>\n",
       "<style scoped>\n",
       "    .dataframe tbody tr th:only-of-type {\n",
       "        vertical-align: middle;\n",
       "    }\n",
       "\n",
       "    .dataframe tbody tr th {\n",
       "        vertical-align: top;\n",
       "    }\n",
       "\n",
       "    .dataframe thead th {\n",
       "        text-align: right;\n",
       "    }\n",
       "</style>\n",
       "<table border=\"1\" class=\"dataframe\">\n",
       "  <thead>\n",
       "    <tr style=\"text-align: right;\">\n",
       "      <th></th>\n",
       "      <th>fare_amount</th>\n",
       "      <th>pickup_datetime</th>\n",
       "      <th>pickup_longitude</th>\n",
       "      <th>pickup_latitude</th>\n",
       "      <th>dropoff_longitude</th>\n",
       "      <th>dropoff_latitude</th>\n",
       "      <th>passenger_count</th>\n",
       "      <th>distance</th>\n",
       "      <th>year</th>\n",
       "      <th>month</th>\n",
       "      <th>weekday</th>\n",
       "      <th>hour</th>\n",
       "    </tr>\n",
       "  </thead>\n",
       "  <tbody>\n",
       "    <tr>\n",
       "      <th>18133357</th>\n",
       "      <td>2010.900024</td>\n",
       "      <td>2010-03-21 10:03:00+00:00</td>\n",
       "      <td>-73.986267</td>\n",
       "      <td>40.774845</td>\n",
       "      <td>-73.971542</td>\n",
       "      <td>40.743950</td>\n",
       "      <td>1</td>\n",
       "      <td>3.649243</td>\n",
       "      <td>2010</td>\n",
       "      <td>3</td>\n",
       "      <td>Sunday</td>\n",
       "      <td>10</td>\n",
       "    </tr>\n",
       "    <tr>\n",
       "      <th>18393336</th>\n",
       "      <td>61550.859375</td>\n",
       "      <td>2013-08-20 11:52:00+00:00</td>\n",
       "      <td>-73.967712</td>\n",
       "      <td>40.755966</td>\n",
       "      <td>-73.945572</td>\n",
       "      <td>40.747665</td>\n",
       "      <td>1</td>\n",
       "      <td>2.084641</td>\n",
       "      <td>2013</td>\n",
       "      <td>8</td>\n",
       "      <td>Tuesday</td>\n",
       "      <td>11</td>\n",
       "    </tr>\n",
       "    <tr>\n",
       "      <th>22142518</th>\n",
       "      <td>3130.300049</td>\n",
       "      <td>2015-03-09 15:28:00+00:00</td>\n",
       "      <td>-74.005417</td>\n",
       "      <td>40.664413</td>\n",
       "      <td>-74.005417</td>\n",
       "      <td>40.664413</td>\n",
       "      <td>1</td>\n",
       "      <td>0.000000</td>\n",
       "      <td>2015</td>\n",
       "      <td>3</td>\n",
       "      <td>Monday</td>\n",
       "      <td>15</td>\n",
       "    </tr>\n",
       "    <tr>\n",
       "      <th>30060980</th>\n",
       "      <td>2004.500000</td>\n",
       "      <td>2010-03-20 12:24:00+00:00</td>\n",
       "      <td>-73.963135</td>\n",
       "      <td>40.777855</td>\n",
       "      <td>-73.975433</td>\n",
       "      <td>40.782146</td>\n",
       "      <td>1</td>\n",
       "      <td>1.142337</td>\n",
       "      <td>2010</td>\n",
       "      <td>3</td>\n",
       "      <td>Saturday</td>\n",
       "      <td>12</td>\n",
       "    </tr>\n",
       "    <tr>\n",
       "      <th>36942979</th>\n",
       "      <td>2023.699951</td>\n",
       "      <td>2010-03-21 14:43:00+00:00</td>\n",
       "      <td>-73.790054</td>\n",
       "      <td>40.647064</td>\n",
       "      <td>-73.917976</td>\n",
       "      <td>40.656940</td>\n",
       "      <td>1</td>\n",
       "      <td>10.874598</td>\n",
       "      <td>2010</td>\n",
       "      <td>3</td>\n",
       "      <td>Sunday</td>\n",
       "      <td>14</td>\n",
       "    </tr>\n",
       "    <tr>\n",
       "      <th>38401219</th>\n",
       "      <td>9000.410156</td>\n",
       "      <td>2010-02-19 17:10:00+00:00</td>\n",
       "      <td>-73.993744</td>\n",
       "      <td>40.746105</td>\n",
       "      <td>-73.989807</td>\n",
       "      <td>40.738976</td>\n",
       "      <td>1</td>\n",
       "      <td>0.858729</td>\n",
       "      <td>2010</td>\n",
       "      <td>2</td>\n",
       "      <td>Friday</td>\n",
       "      <td>17</td>\n",
       "    </tr>\n",
       "    <tr>\n",
       "      <th>40017986</th>\n",
       "      <td>93963.359375</td>\n",
       "      <td>2015-02-24 08:57:00+00:00</td>\n",
       "      <td>-73.994461</td>\n",
       "      <td>40.712353</td>\n",
       "      <td>-74.012543</td>\n",
       "      <td>40.702904</td>\n",
       "      <td>2</td>\n",
       "      <td>1.853598</td>\n",
       "      <td>2015</td>\n",
       "      <td>2</td>\n",
       "      <td>Tuesday</td>\n",
       "      <td>8</td>\n",
       "    </tr>\n",
       "    <tr>\n",
       "      <th>40167920</th>\n",
       "      <td>75747.023438</td>\n",
       "      <td>2015-05-03 09:35:00+00:00</td>\n",
       "      <td>-73.967949</td>\n",
       "      <td>40.792355</td>\n",
       "      <td>-73.990898</td>\n",
       "      <td>40.738976</td>\n",
       "      <td>1</td>\n",
       "      <td>6.236368</td>\n",
       "      <td>2015</td>\n",
       "      <td>5</td>\n",
       "      <td>Sunday</td>\n",
       "      <td>9</td>\n",
       "    </tr>\n",
       "    <tr>\n",
       "      <th>43891292</th>\n",
       "      <td>1564.500000</td>\n",
       "      <td>2010-02-20 17:38:00+00:00</td>\n",
       "      <td>-73.937782</td>\n",
       "      <td>40.758255</td>\n",
       "      <td>-73.937752</td>\n",
       "      <td>40.758232</td>\n",
       "      <td>1</td>\n",
       "      <td>0.003620</td>\n",
       "      <td>2010</td>\n",
       "      <td>2</td>\n",
       "      <td>Saturday</td>\n",
       "      <td>17</td>\n",
       "    </tr>\n",
       "  </tbody>\n",
       "</table>\n",
       "</div>"
      ],
      "text/plain": [
       "           fare_amount           pickup_datetime  pickup_longitude  \\\n",
       "18133357   2010.900024 2010-03-21 10:03:00+00:00        -73.986267   \n",
       "18393336  61550.859375 2013-08-20 11:52:00+00:00        -73.967712   \n",
       "22142518   3130.300049 2015-03-09 15:28:00+00:00        -74.005417   \n",
       "30060980   2004.500000 2010-03-20 12:24:00+00:00        -73.963135   \n",
       "36942979   2023.699951 2010-03-21 14:43:00+00:00        -73.790054   \n",
       "38401219   9000.410156 2010-02-19 17:10:00+00:00        -73.993744   \n",
       "40017986  93963.359375 2015-02-24 08:57:00+00:00        -73.994461   \n",
       "40167920  75747.023438 2015-05-03 09:35:00+00:00        -73.967949   \n",
       "43891292   1564.500000 2010-02-20 17:38:00+00:00        -73.937782   \n",
       "\n",
       "          pickup_latitude  dropoff_longitude  dropoff_latitude  \\\n",
       "18133357        40.774845         -73.971542         40.743950   \n",
       "18393336        40.755966         -73.945572         40.747665   \n",
       "22142518        40.664413         -74.005417         40.664413   \n",
       "30060980        40.777855         -73.975433         40.782146   \n",
       "36942979        40.647064         -73.917976         40.656940   \n",
       "38401219        40.746105         -73.989807         40.738976   \n",
       "40017986        40.712353         -74.012543         40.702904   \n",
       "40167920        40.792355         -73.990898         40.738976   \n",
       "43891292        40.758255         -73.937752         40.758232   \n",
       "\n",
       "          passenger_count   distance  year  month   weekday  hour  \n",
       "18133357                1   3.649243  2010      3    Sunday    10  \n",
       "18393336                1   2.084641  2013      8   Tuesday    11  \n",
       "22142518                1   0.000000  2015      3    Monday    15  \n",
       "30060980                1   1.142337  2010      3  Saturday    12  \n",
       "36942979                1  10.874598  2010      3    Sunday    14  \n",
       "38401219                1   0.858729  2010      2    Friday    17  \n",
       "40017986                2   1.853598  2015      2   Tuesday     8  \n",
       "40167920                1   6.236368  2015      5    Sunday     9  \n",
       "43891292                1   0.003620  2010      2  Saturday    17  "
      ]
     },
     "execution_count": 7,
     "metadata": {},
     "output_type": "execute_result"
    }
   ],
   "source": [
    "# 9筆價格異常高的誇張\n",
    "df[df['fare_amount']>1000]"
   ]
  },
  {
   "cell_type": "code",
   "execution_count": 8,
   "metadata": {
    "collapsed": true
   },
   "outputs": [],
   "source": [
    "df = df[df['fare_amount']<1000]"
   ]
  },
  {
   "cell_type": "code",
   "execution_count": 6,
   "metadata": {
    "collapsed": false,
    "scrolled": false
   },
   "outputs": [
    {
     "data": {
      "text/html": [
       "<div>\n",
       "<style scoped>\n",
       "    .dataframe tbody tr th:only-of-type {\n",
       "        vertical-align: middle;\n",
       "    }\n",
       "\n",
       "    .dataframe tbody tr th {\n",
       "        vertical-align: top;\n",
       "    }\n",
       "\n",
       "    .dataframe thead th {\n",
       "        text-align: right;\n",
       "    }\n",
       "</style>\n",
       "<table border=\"1\" class=\"dataframe\">\n",
       "  <thead>\n",
       "    <tr style=\"text-align: right;\">\n",
       "      <th></th>\n",
       "      <th>fare_amount</th>\n",
       "      <th>pickup_datetime</th>\n",
       "      <th>pickup_longitude</th>\n",
       "      <th>pickup_latitude</th>\n",
       "      <th>dropoff_longitude</th>\n",
       "      <th>dropoff_latitude</th>\n",
       "      <th>passenger_count</th>\n",
       "      <th>distance</th>\n",
       "      <th>year</th>\n",
       "      <th>month</th>\n",
       "      <th>weekday</th>\n",
       "      <th>hour</th>\n",
       "    </tr>\n",
       "  </thead>\n",
       "  <tbody>\n",
       "    <tr>\n",
       "      <th>102</th>\n",
       "      <td>52.0</td>\n",
       "      <td>2009-03-25 00:08:00+00:00</td>\n",
       "      <td>-74.035835</td>\n",
       "      <td>40.747318</td>\n",
       "      <td>-74.035835</td>\n",
       "      <td>40.747318</td>\n",
       "      <td>1</td>\n",
       "      <td>0.0</td>\n",
       "      <td>2009</td>\n",
       "      <td>3</td>\n",
       "      <td>Wednesday</td>\n",
       "      <td>0</td>\n",
       "    </tr>\n",
       "    <tr>\n",
       "      <th>187</th>\n",
       "      <td>6.5</td>\n",
       "      <td>2014-01-08 21:55:00+00:00</td>\n",
       "      <td>-73.998489</td>\n",
       "      <td>40.726303</td>\n",
       "      <td>-73.998489</td>\n",
       "      <td>40.726303</td>\n",
       "      <td>1</td>\n",
       "      <td>0.0</td>\n",
       "      <td>2014</td>\n",
       "      <td>1</td>\n",
       "      <td>Wednesday</td>\n",
       "      <td>21</td>\n",
       "    </tr>\n",
       "    <tr>\n",
       "      <th>264</th>\n",
       "      <td>7.5</td>\n",
       "      <td>2012-08-25 01:53:00+00:00</td>\n",
       "      <td>-73.995895</td>\n",
       "      <td>40.746452</td>\n",
       "      <td>-73.995895</td>\n",
       "      <td>40.746452</td>\n",
       "      <td>1</td>\n",
       "      <td>0.0</td>\n",
       "      <td>2012</td>\n",
       "      <td>8</td>\n",
       "      <td>Saturday</td>\n",
       "      <td>1</td>\n",
       "    </tr>\n",
       "    <tr>\n",
       "      <th>283</th>\n",
       "      <td>6.9</td>\n",
       "      <td>2009-12-14 12:33:00+00:00</td>\n",
       "      <td>-73.982430</td>\n",
       "      <td>40.745747</td>\n",
       "      <td>-73.982430</td>\n",
       "      <td>40.745747</td>\n",
       "      <td>1</td>\n",
       "      <td>0.0</td>\n",
       "      <td>2009</td>\n",
       "      <td>12</td>\n",
       "      <td>Monday</td>\n",
       "      <td>12</td>\n",
       "    </tr>\n",
       "    <tr>\n",
       "      <th>385</th>\n",
       "      <td>12.0</td>\n",
       "      <td>2014-03-12 18:12:00+00:00</td>\n",
       "      <td>-73.844902</td>\n",
       "      <td>40.736317</td>\n",
       "      <td>-73.844902</td>\n",
       "      <td>40.736317</td>\n",
       "      <td>1</td>\n",
       "      <td>0.0</td>\n",
       "      <td>2014</td>\n",
       "      <td>3</td>\n",
       "      <td>Wednesday</td>\n",
       "      <td>18</td>\n",
       "    </tr>\n",
       "  </tbody>\n",
       "</table>\n",
       "</div>"
      ],
      "text/plain": [
       "     fare_amount           pickup_datetime  pickup_longitude  pickup_latitude  \\\n",
       "102         52.0 2009-03-25 00:08:00+00:00        -74.035835        40.747318   \n",
       "187          6.5 2014-01-08 21:55:00+00:00        -73.998489        40.726303   \n",
       "264          7.5 2012-08-25 01:53:00+00:00        -73.995895        40.746452   \n",
       "283          6.9 2009-12-14 12:33:00+00:00        -73.982430        40.745747   \n",
       "385         12.0 2014-03-12 18:12:00+00:00        -73.844902        40.736317   \n",
       "\n",
       "     dropoff_longitude  dropoff_latitude  passenger_count  distance  year  \\\n",
       "102         -74.035835         40.747318                1       0.0  2009   \n",
       "187         -73.998489         40.726303                1       0.0  2014   \n",
       "264         -73.995895         40.746452                1       0.0  2012   \n",
       "283         -73.982430         40.745747                1       0.0  2009   \n",
       "385         -73.844902         40.736317                1       0.0  2014   \n",
       "\n",
       "     month    weekday  hour  \n",
       "102      3  Wednesday     0  \n",
       "187      1  Wednesday    21  \n",
       "264      8   Saturday     1  \n",
       "283     12     Monday    12  \n",
       "385      3  Wednesday    18  "
      ]
     },
     "execution_count": 6,
     "metadata": {},
     "output_type": "execute_result"
    }
   ],
   "source": [
    "# 有582996筆距離0的資料，但test裡也有距離為0，所以不刪除\n",
    "df[df['distance']==0].head()"
   ]
  },
  {
   "cell_type": "code",
   "execution_count": 10,
   "metadata": {
    "collapsed": true
   },
   "outputs": [],
   "source": [
    "df = df.reset_index(drop=True)"
   ]
  },
  {
   "cell_type": "code",
   "execution_count": 11,
   "metadata": {
    "collapsed": false
   },
   "outputs": [
    {
     "data": {
      "text/plain": [
       "54054801"
      ]
     },
     "execution_count": 11,
     "metadata": {},
     "output_type": "execute_result"
    }
   ],
   "source": [
    "len(df)"
   ]
  },
  {
   "cell_type": "markdown",
   "metadata": {},
   "source": [
    "### 新增欄位"
   ]
  },
  {
   "cell_type": "code",
   "execution_count": 9,
   "metadata": {
    "collapsed": true
   },
   "outputs": [],
   "source": [
    "import geopy.distance"
   ]
  },
  {
   "cell_type": "code",
   "execution_count": 10,
   "metadata": {
    "code_folding": [],
    "collapsed": false
   },
   "outputs": [
    {
     "name": "stderr",
     "output_type": "stream",
     "text": [
      "/Users/andy/anaconda/lib/python3.6/site-packages/ipykernel/__main__.py:4: DeprecationWarning: Vincenty is deprecated and is going to be removed in geopy 2.0. Use `geopy.distance.geodesic` (or the default `geopy.distance.distance`) instead, which is more accurate and always converges.\n"
     ]
    },
    {
     "name": "stdout",
     "output_type": "stream",
     "text": [
      "\n"
     ]
    }
   ],
   "source": [
    "dis = []\n",
    "for i in tqdm_notebook(range(len(df))):\n",
    "    try:\n",
    "        dis.append(geopy.distance.vincenty((df['pickup_latitude'][i],df['pickup_longitude'][i]),(df['dropoff_latitude'][i],df['dropoff_longitude'][i])).km)\n",
    "    except:\n",
    "        print(i)\n",
    "        break\n",
    "df['distance'] = pd.DataFrame(dis)"
   ]
  },
  {
   "cell_type": "code",
   "execution_count": 12,
   "metadata": {
    "collapsed": true
   },
   "outputs": [],
   "source": [
    "df['year'] = df['pickup_datetime'].dt.year\n",
    "df['month'] = df['pickup_datetime'].dt.month\n",
    "df['weekday'] = df['pickup_datetime'].dt.weekday\n",
    "df['weekday'] = df['weekday'].replace([0, 1, 2, 3, 4, 5, 6], ['Monday','Tuesday','Wednesday','Thursday','Friday','Saturday','Sunday'])\n",
    "df['hour'] = df['pickup_datetime'].dt.hour"
   ]
  },
  {
   "cell_type": "code",
   "execution_count": 12,
   "metadata": {
    "collapsed": false
   },
   "outputs": [
    {
     "data": {
      "text/html": [
       "<div>\n",
       "<style scoped>\n",
       "    .dataframe tbody tr th:only-of-type {\n",
       "        vertical-align: middle;\n",
       "    }\n",
       "\n",
       "    .dataframe tbody tr th {\n",
       "        vertical-align: top;\n",
       "    }\n",
       "\n",
       "    .dataframe thead th {\n",
       "        text-align: right;\n",
       "    }\n",
       "</style>\n",
       "<table border=\"1\" class=\"dataframe\">\n",
       "  <thead>\n",
       "    <tr style=\"text-align: right;\">\n",
       "      <th></th>\n",
       "      <th>fare_amount</th>\n",
       "      <th>pickup_datetime</th>\n",
       "      <th>pickup_longitude</th>\n",
       "      <th>pickup_latitude</th>\n",
       "      <th>dropoff_longitude</th>\n",
       "      <th>dropoff_latitude</th>\n",
       "      <th>passenger_count</th>\n",
       "      <th>distance</th>\n",
       "      <th>year</th>\n",
       "      <th>month</th>\n",
       "      <th>weekday</th>\n",
       "      <th>hour</th>\n",
       "    </tr>\n",
       "  </thead>\n",
       "  <tbody>\n",
       "    <tr>\n",
       "      <th>0</th>\n",
       "      <td>4.5</td>\n",
       "      <td>2009-06-15 17:26:00+00:00</td>\n",
       "      <td>-73.844315</td>\n",
       "      <td>40.721317</td>\n",
       "      <td>-73.841614</td>\n",
       "      <td>40.712276</td>\n",
       "      <td>1</td>\n",
       "      <td>1.029579</td>\n",
       "      <td>2009</td>\n",
       "      <td>6</td>\n",
       "      <td>Monday</td>\n",
       "      <td>17</td>\n",
       "    </tr>\n",
       "    <tr>\n",
       "      <th>1</th>\n",
       "      <td>16.9</td>\n",
       "      <td>2010-01-05 16:52:00+00:00</td>\n",
       "      <td>-74.016045</td>\n",
       "      <td>40.711304</td>\n",
       "      <td>-73.979271</td>\n",
       "      <td>40.782005</td>\n",
       "      <td>1</td>\n",
       "      <td>8.443307</td>\n",
       "      <td>2010</td>\n",
       "      <td>1</td>\n",
       "      <td>Tuesday</td>\n",
       "      <td>16</td>\n",
       "    </tr>\n",
       "    <tr>\n",
       "      <th>2</th>\n",
       "      <td>5.7</td>\n",
       "      <td>2011-08-18 00:35:00+00:00</td>\n",
       "      <td>-73.982735</td>\n",
       "      <td>40.761269</td>\n",
       "      <td>-73.991241</td>\n",
       "      <td>40.750561</td>\n",
       "      <td>2</td>\n",
       "      <td>1.389240</td>\n",
       "      <td>2011</td>\n",
       "      <td>8</td>\n",
       "      <td>Thursday</td>\n",
       "      <td>0</td>\n",
       "    </tr>\n",
       "    <tr>\n",
       "      <th>3</th>\n",
       "      <td>7.7</td>\n",
       "      <td>2012-04-21 04:30:00+00:00</td>\n",
       "      <td>-73.987129</td>\n",
       "      <td>40.733143</td>\n",
       "      <td>-73.991570</td>\n",
       "      <td>40.758091</td>\n",
       "      <td>1</td>\n",
       "      <td>2.795730</td>\n",
       "      <td>2012</td>\n",
       "      <td>4</td>\n",
       "      <td>Saturday</td>\n",
       "      <td>4</td>\n",
       "    </tr>\n",
       "    <tr>\n",
       "      <th>4</th>\n",
       "      <td>5.3</td>\n",
       "      <td>2010-03-09 07:51:00+00:00</td>\n",
       "      <td>-73.968094</td>\n",
       "      <td>40.768009</td>\n",
       "      <td>-73.956657</td>\n",
       "      <td>40.783764</td>\n",
       "      <td>1</td>\n",
       "      <td>1.998262</td>\n",
       "      <td>2010</td>\n",
       "      <td>3</td>\n",
       "      <td>Tuesday</td>\n",
       "      <td>7</td>\n",
       "    </tr>\n",
       "  </tbody>\n",
       "</table>\n",
       "</div>"
      ],
      "text/plain": [
       "   fare_amount           pickup_datetime  pickup_longitude  pickup_latitude  \\\n",
       "0          4.5 2009-06-15 17:26:00+00:00        -73.844315        40.721317   \n",
       "1         16.9 2010-01-05 16:52:00+00:00        -74.016045        40.711304   \n",
       "2          5.7 2011-08-18 00:35:00+00:00        -73.982735        40.761269   \n",
       "3          7.7 2012-04-21 04:30:00+00:00        -73.987129        40.733143   \n",
       "4          5.3 2010-03-09 07:51:00+00:00        -73.968094        40.768009   \n",
       "\n",
       "   dropoff_longitude  dropoff_latitude  passenger_count  distance  year  \\\n",
       "0         -73.841614         40.712276                1  1.029579  2009   \n",
       "1         -73.979271         40.782005                1  8.443307  2010   \n",
       "2         -73.991241         40.750561                2  1.389240  2011   \n",
       "3         -73.991570         40.758091                1  2.795730  2012   \n",
       "4         -73.956657         40.783764                1  1.998262  2010   \n",
       "\n",
       "   month   weekday  hour  \n",
       "0      6    Monday    17  \n",
       "1      1   Tuesday    16  \n",
       "2      8  Thursday     0  \n",
       "3      4  Saturday     4  \n",
       "4      3   Tuesday     7  "
      ]
     },
     "execution_count": 12,
     "metadata": {},
     "output_type": "execute_result"
    }
   ],
   "source": [
    "df.head()"
   ]
  },
  {
   "cell_type": "code",
   "execution_count": 13,
   "metadata": {
    "collapsed": false
   },
   "outputs": [
    {
     "name": "stdout",
     "output_type": "stream",
     "text": [
      "CPU times: user 9.91 s, sys: 19.2 s, total: 29.1 s\n",
      "Wall time: 1min 16s\n"
     ]
    }
   ],
   "source": [
    "%%time\n",
    "# Save into feather format, about 3.9Gb.\n",
    "df.to_feather('/Volumes/transcend/大檔案/Taxi/NYT/nyc_taxi_data_raw_clean_origin.feather')"
   ]
  },
  {
   "cell_type": "markdown",
   "metadata": {},
   "source": [
    "### 需要的欄位"
   ]
  },
  {
   "cell_type": "code",
   "execution_count": 14,
   "metadata": {
    "collapsed": true
   },
   "outputs": [],
   "source": [
    "df2 = df[['fare_amount','passenger_count','distance','year','month','weekday','hour']]"
   ]
  },
  {
   "cell_type": "code",
   "execution_count": 15,
   "metadata": {
    "collapsed": false
   },
   "outputs": [
    {
     "data": {
      "text/html": [
       "<div>\n",
       "<style scoped>\n",
       "    .dataframe tbody tr th:only-of-type {\n",
       "        vertical-align: middle;\n",
       "    }\n",
       "\n",
       "    .dataframe tbody tr th {\n",
       "        vertical-align: top;\n",
       "    }\n",
       "\n",
       "    .dataframe thead th {\n",
       "        text-align: right;\n",
       "    }\n",
       "</style>\n",
       "<table border=\"1\" class=\"dataframe\">\n",
       "  <thead>\n",
       "    <tr style=\"text-align: right;\">\n",
       "      <th></th>\n",
       "      <th>fare_amount</th>\n",
       "      <th>passenger_count</th>\n",
       "      <th>distance</th>\n",
       "      <th>year</th>\n",
       "      <th>month</th>\n",
       "      <th>weekday</th>\n",
       "      <th>hour</th>\n",
       "    </tr>\n",
       "  </thead>\n",
       "  <tbody>\n",
       "    <tr>\n",
       "      <th>0</th>\n",
       "      <td>4.5</td>\n",
       "      <td>1</td>\n",
       "      <td>1.029579</td>\n",
       "      <td>2009</td>\n",
       "      <td>6</td>\n",
       "      <td>Monday</td>\n",
       "      <td>17</td>\n",
       "    </tr>\n",
       "    <tr>\n",
       "      <th>1</th>\n",
       "      <td>16.9</td>\n",
       "      <td>1</td>\n",
       "      <td>8.443307</td>\n",
       "      <td>2010</td>\n",
       "      <td>1</td>\n",
       "      <td>Tuesday</td>\n",
       "      <td>16</td>\n",
       "    </tr>\n",
       "    <tr>\n",
       "      <th>2</th>\n",
       "      <td>5.7</td>\n",
       "      <td>2</td>\n",
       "      <td>1.389240</td>\n",
       "      <td>2011</td>\n",
       "      <td>8</td>\n",
       "      <td>Thursday</td>\n",
       "      <td>0</td>\n",
       "    </tr>\n",
       "    <tr>\n",
       "      <th>3</th>\n",
       "      <td>7.7</td>\n",
       "      <td>1</td>\n",
       "      <td>2.795730</td>\n",
       "      <td>2012</td>\n",
       "      <td>4</td>\n",
       "      <td>Saturday</td>\n",
       "      <td>4</td>\n",
       "    </tr>\n",
       "    <tr>\n",
       "      <th>4</th>\n",
       "      <td>5.3</td>\n",
       "      <td>1</td>\n",
       "      <td>1.998262</td>\n",
       "      <td>2010</td>\n",
       "      <td>3</td>\n",
       "      <td>Tuesday</td>\n",
       "      <td>7</td>\n",
       "    </tr>\n",
       "  </tbody>\n",
       "</table>\n",
       "</div>"
      ],
      "text/plain": [
       "   fare_amount  passenger_count  distance  year  month   weekday  hour\n",
       "0          4.5                1  1.029579  2009      6    Monday    17\n",
       "1         16.9                1  8.443307  2010      1   Tuesday    16\n",
       "2          5.7                2  1.389240  2011      8  Thursday     0\n",
       "3          7.7                1  2.795730  2012      4  Saturday     4\n",
       "4          5.3                1  1.998262  2010      3   Tuesday     7"
      ]
     },
     "execution_count": 15,
     "metadata": {},
     "output_type": "execute_result"
    }
   ],
   "source": [
    "df2.head()"
   ]
  },
  {
   "cell_type": "code",
   "execution_count": 16,
   "metadata": {
    "collapsed": false
   },
   "outputs": [
    {
     "name": "stdout",
     "output_type": "stream",
     "text": [
      "CPU times: user 6.54 s, sys: 12.7 s, total: 19.2 s\n",
      "Wall time: 56.4 s\n"
     ]
    }
   ],
   "source": [
    "%%time\n",
    "# Save into feather format, about 2.6Gb.\n",
    "df2.to_feather('/Volumes/transcend/大檔案/Taxi/NYT/nyc_taxi_data_raw_clean.feather')"
   ]
  },
  {
   "cell_type": "code",
   "execution_count": null,
   "metadata": {
    "collapsed": true
   },
   "outputs": [],
   "source": []
  }
 ],
 "metadata": {
  "kernelspec": {
   "display_name": "Python 3",
   "language": "python",
   "name": "python3"
  },
  "language_info": {
   "codemirror_mode": {
    "name": "ipython",
    "version": 3
   },
   "file_extension": ".py",
   "mimetype": "text/x-python",
   "name": "python",
   "nbconvert_exporter": "python",
   "pygments_lexer": "ipython3",
   "version": "3.6.3"
  }
 },
 "nbformat": 4,
 "nbformat_minor": 2
}
